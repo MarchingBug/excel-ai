{
 "cells": [
  {
   "cell_type": "code",
   "execution_count": 32,
   "metadata": {},
   "outputs": [],
   "source": [
    "import os\n",
    "import json\n",
    "from pprint import pprint\n",
    "from dotenv import load_dotenv\n",
    "import azure.storage.blob\n",
    "from azure.storage.blob import BlobServiceClient, BlobSasPermissions, generate_blob_sas,generate_container_sas,ContainerClient\n",
    "from azure.storage.blob import ResourceTypes, AccountSasPermissions, generate_account_sas\n",
    "import os\n",
    "import sys\n",
    "import datetime\n",
    "from datetime import datetime, timedelta\n",
    "from azure.identity import DefaultAzureCredential\n",
    "from azure.core.credentials import AzureKeyCredential\n",
    "import azure.ai.documentintelligence\n",
    "from openai import AzureOpenAI\n",
    "import openpyxl \n",
    "\n",
    "\n",
    "\n",
    "def read_env_file(file_path):\n",
    "    # Load the .env file\n",
    "    load_dotenv(dotenv_path=file_path)\n",
    "\n",
    "    # Get all environment variables\n",
    "    env_vars = os.environ\n",
    "\n",
    "    # Return the environment variables\n",
    "    return env_vars\n",
    "\n",
    "read_env_file(\"secrets.env\")\n",
    "\n",
    "OPENAI_ENDPOINT = os.environ.get(\"OPENAI_ENDPOINT\")\n",
    "OPENAI_API_KEY = os.environ.get(\"OPENAI_API_KEY\")\n",
    "OPENAI_EMBEDDING_MODEL = os.environ.get(\"OPENAI_EMBEDDING_MODEL\")\n",
    "OPENAI_API_MODEL =  os.environ.get(\"OPENAI_API_MODEL\")"
   ]
  },
  {
   "cell_type": "code",
   "execution_count": 33,
   "metadata": {},
   "outputs": [
    {
     "name": "stdout",
     "output_type": "stream",
     "text": [
      "ChatCompletion(id='chatcmpl-B7pHSMNZ3jebqa4RTSYpP0cohdfSQ', choices=[Choice(finish_reason='stop', index=0, logprobs=None, message=ChatCompletionMessage(content='Yes, Azure OpenAI Service supports customer-managed keys (CMKs). This feature allows you to use your own encryption keys to protect data associated with the service. By using CMKs, you have greater control over data encryption and can manage key rotation, revocation, and other aspects of key lifecycle management according to your policies and compliance requirements.\\n\\nTo use customer-managed keys with Azure OpenAI, you typically integrate with Azure Key Vault, which is a cloud service for securely storing and managing keys, secrets, and certificates. By configuring Azure OpenAI to use keys from your Key Vault, you gain enhanced control over the encryption of your data.\\n\\nBe sure to review the latest Azure documentation or the Azure portal for detailed instructions and any updates regarding customer-managed keys in the context of Azure OpenAI Service.', refusal=None, role='assistant', function_call=None, tool_calls=None), content_filter_results={'hate': {'filtered': False, 'severity': 'safe'}, 'protected_material_code': {'filtered': False, 'detected': False}, 'protected_material_text': {'filtered': False, 'detected': False}, 'self_harm': {'filtered': False, 'severity': 'safe'}, 'sexual': {'filtered': False, 'severity': 'safe'}, 'violence': {'filtered': False, 'severity': 'safe'}})], created=1741205118, model='gpt-4o-2024-08-06', object='chat.completion', service_tier=None, system_fingerprint='fp_b705f0c291', usage=CompletionUsage(completion_tokens=158, prompt_tokens=26, total_tokens=184, completion_tokens_details=CompletionTokensDetails(reasoning_tokens=0, accepted_prediction_tokens=0, audio_tokens=0, rejected_prediction_tokens=0), prompt_tokens_details={'audio_tokens': 0, 'cached_tokens': 0}), prompt_filter_results=[{'prompt_index': 0, 'content_filter_results': {'hate': {'filtered': False, 'severity': 'safe'}, 'jailbreak': {'filtered': False, 'detected': False}, 'self_harm': {'filtered': False, 'severity': 'safe'}, 'sexual': {'filtered': False, 'severity': 'safe'}, 'violence': {'filtered': False, 'severity': 'safe'}}}])\n"
     ]
    }
   ],
   "source": [
    "#Testing \n",
    "\n",
    "from openai import AzureOpenAI\n",
    "\n",
    "client = AzureOpenAI(\n",
    "   azure_endpoint=\"https://open-ai-end-to-end-am.azure-api.net/myapi/\", #do not add \"/openai\" at the end here because this will be automatically added by this SDK\n",
    "   api_key=\"\",\n",
    "   api_version=\"2024-02-15-preview\"\n",
    ")\n",
    "\n",
    "response = client.chat.completions.create(\n",
    "   model=\"gpt-4o\",\n",
    "   messages=[\n",
    "      {\"role\": \"system\", \"content\": \"You are a helpful assistant.\"},\n",
    "      {\"role\": \"user\", \"content\": \"Does Azure OpenAI support customer managed keys?\"}\n",
    "   ]\n",
    ")\n",
    "print(response)"
   ]
  },
  {
   "cell_type": "code",
   "execution_count": 34,
   "metadata": {},
   "outputs": [],
   "source": [
    "def get_chat_completion(system_message, text):\n",
    "    \n",
    "\n",
    "    completion = client.chat.completions.create(\n",
    "         model=OPENAI_API_MODEL,\n",
    "        messages=[\n",
    "         {\"role\": \"system\", \"content\": system_message},\n",
    "        {\"role\": \"user\", \"content\": text}\n",
    "        ]\n",
    "    )\n",
    "\n",
    "    #print(completion.choices[0].message.content)\n",
    "    return completion.choices[0].message.content"
   ]
  },
  {
   "cell_type": "code",
   "execution_count": 35,
   "metadata": {},
   "outputs": [
    {
     "name": "stdout",
     "output_type": "stream",
     "text": [
      "{'Sheet1': {'A1': 'ID',\n",
      "            'A2': 1,\n",
      "            'A3': 3,\n",
      "            'B1': 'Name',\n",
      "            'B2': 'Alice',\n",
      "            'B3': 'Charlie',\n",
      "            'C1': 'Age',\n",
      "            'C2': 25,\n",
      "            'C3': 45,\n",
      "            'D1': 'Status',\n",
      "            'D2': 'Active',\n",
      "            'D3': 'Active'}}\n"
     ]
    }
   ],
   "source": [
    "# Install openpyxl package\n",
    "#%pip install openpyxl\n",
    "\n",
    "import openpyxl\n",
    "from openpyxl import load_workbook\n",
    "\n",
    "# Specify the path to your Excel file\n",
    "file_path = \"sample_data.xlsx\"\n",
    "\n",
    "# Load the workbook\n",
    "workbook = load_workbook(file_path)\n",
    "# Create a dictionary to hold the JSON structure\n",
    "workbook_data = {}\n",
    "\n",
    "# Iterate through all sheets in the workbook\n",
    "for sheet_name in workbook.sheetnames:\n",
    "    sheet = workbook[sheet_name]\n",
    "    sheet_data = {}\n",
    "    \n",
    "    # Iterate through all rows and columns in the sheet\n",
    "    for row in sheet.iter_rows():\n",
    "        for cell in row:\n",
    "            sheet_data[cell.coordinate] = cell.value\n",
    "    \n",
    "    # Add the sheet data to the workbook data\n",
    "    workbook_data[sheet_name] = sheet_data\n",
    "\n",
    "# Print the JSON structure\n",
    "pprint(workbook_data)"
   ]
  },
  {
   "cell_type": "code",
   "execution_count": 36,
   "metadata": {},
   "outputs": [
    {
     "name": "stdout",
     "output_type": "stream",
     "text": [
      "from openpyxl import load_workbook\n",
      "\n",
      "# Load the workbook and select the active worksheet\n",
      "workbook = load_workbook('sample_data.xlsx')\n",
      "sheet = workbook.active\n",
      "\n",
      "# Add 5 years to Charlie's age\n",
      "for row in sheet.iter_rows(min_row=2, min_col=1, max_col=4):\n",
      "    if row[1].value == 'Charlie':\n",
      "        row[2].value += 5\n",
      "\n",
      "# Save the workbook\n",
      "workbook.save('sample_data.xlsx')\n"
     ]
    }
   ],
   "source": [
    "system_message = f\"you are a coding assistant that uses openpyxl to write the python code it to make changes to the file data, use this file {file_path}, use the information from the file {workbook_data} once the code is generated return the source code only, remove any ``` characters\"\n",
    "text = \"add 5 years to Charlies age\" \n",
    "script = get_chat_completion(system_message, text)  \n",
    "print(script)"
   ]
  },
  {
   "cell_type": "code",
   "execution_count": null,
   "metadata": {},
   "outputs": [
    {
     "name": "stdout",
     "output_type": "stream",
     "text": [
      "Python script generated: C:\\Projects\\OpenAIWorkshop-v2-scalable\\OpenAIWorkshop-V2\\script.py\n",
      "Python script output: \n"
     ]
    }
   ],
   "source": [
    "#Now execute the python code returned by the model\n",
    "\n",
    "import os\n",
    "import requests\n",
    "import subprocess\n",
    "import shutil\n",
    "from pathlib import Path\n",
    "\n",
    "script_path = Path(\"script.py\").resolve()\n",
    "with open(script_path, \"w\") as file:\n",
    "    file.write(script)\n",
    "\n",
    "print(\"Python script generated:\", script_path)\n",
    "\n",
    "python_command = shutil.which(\"python\") or shutil.which(\"python3\")\n",
    "if not python_command:\n",
    "    raise RuntimeError(\"Python interpreter not found.\")\n",
    "\n",
    "process = subprocess.run([python_command, str(script_path)], capture_output=True, text=True)\n",
    "\n",
    "if process.returncode != 0:\n",
    "    print(\"Error running Python script:\", process.stderr)\n",
    "else:\n",
    "    print(\"Python script output:\", process.stdout)"
   ]
  }
 ],
 "metadata": {
  "kernelspec": {
   "display_name": "Python 3",
   "language": "python",
   "name": "python3"
  },
  "language_info": {
   "codemirror_mode": {
    "name": "ipython",
    "version": 3
   },
   "file_extension": ".py",
   "mimetype": "text/x-python",
   "name": "python",
   "nbconvert_exporter": "python",
   "pygments_lexer": "ipython3",
   "version": "3.11.9"
  }
 },
 "nbformat": 4,
 "nbformat_minor": 2
}
